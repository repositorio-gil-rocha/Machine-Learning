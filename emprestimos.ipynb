{
  "nbformat": 4,
  "nbformat_minor": 0,
  "metadata": {
    "kernelspec": {
      "display_name": "Python 3",
      "language": "python",
      "name": "python3"
    },
    "language_info": {
      "codemirror_mode": {
        "name": "ipython",
        "version": 3
      },
      "file_extension": ".py",
      "mimetype": "text/x-python",
      "name": "python",
      "nbconvert_exporter": "python",
      "pygments_lexer": "ipython3",
      "version": "3.8.5"
    },
    "colab": {
      "name": "emprestimos.ipynb",
      "provenance": [],
      "toc_visible": true
    }
  },
  "cells": [
    {
      "cell_type": "code",
      "metadata": {
        "id": "5NmATgAiM2Tx"
      },
      "source": [
        "## Pacotes\n",
        "import pandas as pd     #Biblioteca de Funções de Manipulação de Dados\n",
        "import seaborn as sns   #Biblioteca de Funções de Visualização Gráfica\n",
        "import warnings\n",
        "warnings.filterwarnings(\"ignore\")"
      ],
      "execution_count": 314,
      "outputs": []
    },
    {
      "cell_type": "code",
      "metadata": {
        "id": "ukzH-Z9xM2T0"
      },
      "source": [
        "# Importando a base de dados\n",
        "clientes = pd.read_csv('clientes.csv')"
      ],
      "execution_count": 315,
      "outputs": []
    },
    {
      "cell_type": "code",
      "metadata": {
        "colab": {
          "base_uri": "https://localhost:8080/"
        },
        "id": "FXRhXswSM2T1",
        "outputId": "3493de81-d162-489e-a161-c6c72c022fda"
      },
      "source": [
        "# Verificando as dimensões do arquivo\n",
        "clientes.shape"
      ],
      "execution_count": 316,
      "outputs": [
        {
          "output_type": "execute_result",
          "data": {
            "text/plain": [
              "(614, 13)"
            ]
          },
          "metadata": {
            "tags": []
          },
          "execution_count": 316
        }
      ]
    },
    {
      "cell_type": "code",
      "metadata": {
        "colab": {
          "base_uri": "https://localhost:8080/",
          "height": 241
        },
        "id": "P_0PKSolM2T3",
        "outputId": "7a0ee21b-02e1-415a-81ee-61de4aa73a33"
      },
      "source": [
        "#Verificando os primeiros registros\n",
        "clientes.head()"
      ],
      "execution_count": 317,
      "outputs": [
        {
          "output_type": "execute_result",
          "data": {
            "text/html": [
              "<div>\n",
              "<style scoped>\n",
              "    .dataframe tbody tr th:only-of-type {\n",
              "        vertical-align: middle;\n",
              "    }\n",
              "\n",
              "    .dataframe tbody tr th {\n",
              "        vertical-align: top;\n",
              "    }\n",
              "\n",
              "    .dataframe thead th {\n",
              "        text-align: right;\n",
              "    }\n",
              "</style>\n",
              "<table border=\"1\" class=\"dataframe\">\n",
              "  <thead>\n",
              "    <tr style=\"text-align: right;\">\n",
              "      <th></th>\n",
              "      <th>cod_cliente</th>\n",
              "      <th>sexo</th>\n",
              "      <th>estado_civil</th>\n",
              "      <th>dependentes</th>\n",
              "      <th>educacao</th>\n",
              "      <th>empregado</th>\n",
              "      <th>renda</th>\n",
              "      <th>renda_conjuge</th>\n",
              "      <th>emprestimo</th>\n",
              "      <th>prestacao_mensal</th>\n",
              "      <th>historico_credito</th>\n",
              "      <th>imovel</th>\n",
              "      <th>aprovacao_emprestimo</th>\n",
              "    </tr>\n",
              "  </thead>\n",
              "  <tbody>\n",
              "    <tr>\n",
              "      <th>0</th>\n",
              "      <td>LP001002</td>\n",
              "      <td>Male</td>\n",
              "      <td>No</td>\n",
              "      <td>0</td>\n",
              "      <td>Graduate</td>\n",
              "      <td>No</td>\n",
              "      <td>5849</td>\n",
              "      <td>0</td>\n",
              "      <td>NaN</td>\n",
              "      <td>360.0</td>\n",
              "      <td>1.0</td>\n",
              "      <td>Urban</td>\n",
              "      <td>Y</td>\n",
              "    </tr>\n",
              "    <tr>\n",
              "      <th>1</th>\n",
              "      <td>LP001003</td>\n",
              "      <td>Male</td>\n",
              "      <td>Yes</td>\n",
              "      <td>1</td>\n",
              "      <td>Graduate</td>\n",
              "      <td>No</td>\n",
              "      <td>4583</td>\n",
              "      <td>1508</td>\n",
              "      <td>128.0</td>\n",
              "      <td>360.0</td>\n",
              "      <td>1.0</td>\n",
              "      <td>Rural</td>\n",
              "      <td>N</td>\n",
              "    </tr>\n",
              "    <tr>\n",
              "      <th>2</th>\n",
              "      <td>LP001005</td>\n",
              "      <td>Male</td>\n",
              "      <td>Yes</td>\n",
              "      <td>0</td>\n",
              "      <td>Graduate</td>\n",
              "      <td>Yes</td>\n",
              "      <td>3000</td>\n",
              "      <td>0</td>\n",
              "      <td>66.0</td>\n",
              "      <td>360.0</td>\n",
              "      <td>1.0</td>\n",
              "      <td>Urban</td>\n",
              "      <td>Y</td>\n",
              "    </tr>\n",
              "    <tr>\n",
              "      <th>3</th>\n",
              "      <td>LP001006</td>\n",
              "      <td>Male</td>\n",
              "      <td>Yes</td>\n",
              "      <td>0</td>\n",
              "      <td>Not Graduate</td>\n",
              "      <td>No</td>\n",
              "      <td>2583</td>\n",
              "      <td>2358</td>\n",
              "      <td>120.0</td>\n",
              "      <td>360.0</td>\n",
              "      <td>1.0</td>\n",
              "      <td>Urban</td>\n",
              "      <td>Y</td>\n",
              "    </tr>\n",
              "    <tr>\n",
              "      <th>4</th>\n",
              "      <td>LP001008</td>\n",
              "      <td>Male</td>\n",
              "      <td>No</td>\n",
              "      <td>0</td>\n",
              "      <td>Graduate</td>\n",
              "      <td>No</td>\n",
              "      <td>6000</td>\n",
              "      <td>0</td>\n",
              "      <td>141.0</td>\n",
              "      <td>360.0</td>\n",
              "      <td>1.0</td>\n",
              "      <td>Urban</td>\n",
              "      <td>Y</td>\n",
              "    </tr>\n",
              "  </tbody>\n",
              "</table>\n",
              "</div>"
            ],
            "text/plain": [
              "  cod_cliente  sexo estado_civil  ... historico_credito imovel aprovacao_emprestimo\n",
              "0    LP001002  Male           No  ...               1.0  Urban                    Y\n",
              "1    LP001003  Male          Yes  ...               1.0  Rural                    N\n",
              "2    LP001005  Male          Yes  ...               1.0  Urban                    Y\n",
              "3    LP001006  Male          Yes  ...               1.0  Urban                    Y\n",
              "4    LP001008  Male           No  ...               1.0  Urban                    Y\n",
              "\n",
              "[5 rows x 13 columns]"
            ]
          },
          "metadata": {
            "tags": []
          },
          "execution_count": 317
        }
      ]
    },
    {
      "cell_type": "code",
      "metadata": {
        "colab": {
          "base_uri": "https://localhost:8080/"
        },
        "id": "ARuthsfQM2T3",
        "outputId": "32db66a6-cac1-4db9-d90c-7c07ae7b98c7"
      },
      "source": [
        "# Verificando as informações dos campos da tabela de dados\n",
        "# Podemos ver os campos nulos, os tipos de dados e a quantidade de linhas e colunas.\n",
        "clientes.info()"
      ],
      "execution_count": 318,
      "outputs": [
        {
          "output_type": "stream",
          "text": [
            "<class 'pandas.core.frame.DataFrame'>\n",
            "RangeIndex: 614 entries, 0 to 613\n",
            "Data columns (total 13 columns):\n",
            " #   Column                Non-Null Count  Dtype  \n",
            "---  ------                --------------  -----  \n",
            " 0   cod_cliente           614 non-null    object \n",
            " 1   sexo                  601 non-null    object \n",
            " 2   estado_civil          611 non-null    object \n",
            " 3   dependentes           599 non-null    object \n",
            " 4   educacao              614 non-null    object \n",
            " 5   empregado             582 non-null    object \n",
            " 6   renda                 614 non-null    int64  \n",
            " 7   renda_conjuge         614 non-null    object \n",
            " 8   emprestimo            592 non-null    float64\n",
            " 9   prestacao_mensal      600 non-null    float64\n",
            " 10  historico_credito     564 non-null    float64\n",
            " 11  imovel                614 non-null    object \n",
            " 12  aprovacao_emprestimo  614 non-null    object \n",
            "dtypes: float64(3), int64(1), object(9)\n",
            "memory usage: 62.5+ KB\n"
          ],
          "name": "stdout"
        }
      ]
    },
    {
      "cell_type": "code",
      "metadata": {
        "colab": {
          "base_uri": "https://localhost:8080/"
        },
        "id": "0zYLBT1PM2T4",
        "outputId": "b299eb1f-f3ae-4abe-ee47-c723a5663523"
      },
      "source": [
        "# Verificando se há valores nulos/ausentes\n",
        "clientes.isnull().sum()"
      ],
      "execution_count": 319,
      "outputs": [
        {
          "output_type": "execute_result",
          "data": {
            "text/plain": [
              "cod_cliente              0\n",
              "sexo                    13\n",
              "estado_civil             3\n",
              "dependentes             15\n",
              "educacao                 0\n",
              "empregado               32\n",
              "renda                    0\n",
              "renda_conjuge            0\n",
              "emprestimo              22\n",
              "prestacao_mensal        14\n",
              "historico_credito       50\n",
              "imovel                   0\n",
              "aprovacao_emprestimo     0\n",
              "dtype: int64"
            ]
          },
          "metadata": {
            "tags": []
          },
          "execution_count": 319
        }
      ]
    },
    {
      "cell_type": "code",
      "metadata": {
        "colab": {
          "base_uri": "https://localhost:8080/"
        },
        "id": "mqy6jbX9M2T4",
        "outputId": "45d4788f-7d21-49b5-9ad1-ebb8eb2c6328"
      },
      "source": [
        "# Verifica se há valores duplicados\n",
        "clientes.duplicated().sum()"
      ],
      "execution_count": 320,
      "outputs": [
        {
          "output_type": "execute_result",
          "data": {
            "text/plain": [
              "0"
            ]
          },
          "metadata": {
            "tags": []
          },
          "execution_count": 320
        }
      ]
    },
    {
      "cell_type": "markdown",
      "metadata": {
        "id": "OoaunEmfM2T5"
      },
      "source": [
        "### Conhecendo a distribuição dos dados de cada variável/campo"
      ]
    },
    {
      "cell_type": "code",
      "metadata": {
        "colab": {
          "base_uri": "https://localhost:8080/",
          "height": 297
        },
        "id": "KYMoMkvHM2T5",
        "outputId": "ec4334f5-b5c7-4374-8e4c-89dde4eee713"
      },
      "source": [
        "#Estatística descritiva dads variáveis númericas\n",
        "clientes.describe()"
      ],
      "execution_count": 321,
      "outputs": [
        {
          "output_type": "execute_result",
          "data": {
            "text/html": [
              "<div>\n",
              "<style scoped>\n",
              "    .dataframe tbody tr th:only-of-type {\n",
              "        vertical-align: middle;\n",
              "    }\n",
              "\n",
              "    .dataframe tbody tr th {\n",
              "        vertical-align: top;\n",
              "    }\n",
              "\n",
              "    .dataframe thead th {\n",
              "        text-align: right;\n",
              "    }\n",
              "</style>\n",
              "<table border=\"1\" class=\"dataframe\">\n",
              "  <thead>\n",
              "    <tr style=\"text-align: right;\">\n",
              "      <th></th>\n",
              "      <th>renda</th>\n",
              "      <th>emprestimo</th>\n",
              "      <th>prestacao_mensal</th>\n",
              "      <th>historico_credito</th>\n",
              "    </tr>\n",
              "  </thead>\n",
              "  <tbody>\n",
              "    <tr>\n",
              "      <th>count</th>\n",
              "      <td>614.000000</td>\n",
              "      <td>592.000000</td>\n",
              "      <td>600.00000</td>\n",
              "      <td>564.000000</td>\n",
              "    </tr>\n",
              "    <tr>\n",
              "      <th>mean</th>\n",
              "      <td>5403.459283</td>\n",
              "      <td>146.412162</td>\n",
              "      <td>342.00000</td>\n",
              "      <td>0.842199</td>\n",
              "    </tr>\n",
              "    <tr>\n",
              "      <th>std</th>\n",
              "      <td>6109.041673</td>\n",
              "      <td>85.587325</td>\n",
              "      <td>65.12041</td>\n",
              "      <td>0.364878</td>\n",
              "    </tr>\n",
              "    <tr>\n",
              "      <th>min</th>\n",
              "      <td>150.000000</td>\n",
              "      <td>9.000000</td>\n",
              "      <td>12.00000</td>\n",
              "      <td>0.000000</td>\n",
              "    </tr>\n",
              "    <tr>\n",
              "      <th>25%</th>\n",
              "      <td>2877.500000</td>\n",
              "      <td>100.000000</td>\n",
              "      <td>360.00000</td>\n",
              "      <td>1.000000</td>\n",
              "    </tr>\n",
              "    <tr>\n",
              "      <th>50%</th>\n",
              "      <td>3812.500000</td>\n",
              "      <td>128.000000</td>\n",
              "      <td>360.00000</td>\n",
              "      <td>1.000000</td>\n",
              "    </tr>\n",
              "    <tr>\n",
              "      <th>75%</th>\n",
              "      <td>5795.000000</td>\n",
              "      <td>168.000000</td>\n",
              "      <td>360.00000</td>\n",
              "      <td>1.000000</td>\n",
              "    </tr>\n",
              "    <tr>\n",
              "      <th>max</th>\n",
              "      <td>81000.000000</td>\n",
              "      <td>700.000000</td>\n",
              "      <td>480.00000</td>\n",
              "      <td>1.000000</td>\n",
              "    </tr>\n",
              "  </tbody>\n",
              "</table>\n",
              "</div>"
            ],
            "text/plain": [
              "              renda  emprestimo  prestacao_mensal  historico_credito\n",
              "count    614.000000  592.000000         600.00000         564.000000\n",
              "mean    5403.459283  146.412162         342.00000           0.842199\n",
              "std     6109.041673   85.587325          65.12041           0.364878\n",
              "min      150.000000    9.000000          12.00000           0.000000\n",
              "25%     2877.500000  100.000000         360.00000           1.000000\n",
              "50%     3812.500000  128.000000         360.00000           1.000000\n",
              "75%     5795.000000  168.000000         360.00000           1.000000\n",
              "max    81000.000000  700.000000         480.00000           1.000000"
            ]
          },
          "metadata": {
            "tags": []
          },
          "execution_count": 321
        }
      ]
    },
    {
      "cell_type": "code",
      "metadata": {
        "colab": {
          "base_uri": "https://localhost:8080/"
        },
        "id": "NcVZZSe-M2T6",
        "outputId": "29cbce4c-7246-4eed-d78b-1fe46278d419"
      },
      "source": [
        "# Tabela de frequência da variável \"aprovacao_emprestimo\" - Nossa classe ou label ou target ou y ou variável a ser predita (o que a gente quer descobrir)\n",
        "# Mostrando a quantidade de emprestimos aprovados na base de dados.\n",
        "clientes.aprovacao_emprestimo.value_counts()"
      ],
      "execution_count": 322,
      "outputs": [
        {
          "output_type": "execute_result",
          "data": {
            "text/plain": [
              "Y    422\n",
              "N    192\n",
              "Name: aprovacao_emprestimo, dtype: int64"
            ]
          },
          "metadata": {
            "tags": []
          },
          "execution_count": 322
        }
      ]
    },
    {
      "cell_type": "code",
      "metadata": {
        "colab": {
          "base_uri": "https://localhost:8080/",
          "height": 297
        },
        "id": "7UeIsbVOM2T6",
        "outputId": "57cfb1e8-75be-4c12-b254-37e0af562516"
      },
      "source": [
        "# Criando gráficos de barras para variáveis categóricas\n",
        "sns.countplot(clientes['aprovacao_emprestimo'])\n"
      ],
      "execution_count": 323,
      "outputs": [
        {
          "output_type": "execute_result",
          "data": {
            "text/plain": [
              "<matplotlib.axes._subplots.AxesSubplot at 0x7f85913bea10>"
            ]
          },
          "metadata": {
            "tags": []
          },
          "execution_count": 323
        },
        {
          "output_type": "display_data",
          "data": {
            "image/png": "[encoded data removed]",
            "text/plain": [
              "<Figure size 432x288 with 1 Axes>"
            ]
          },
          "metadata": {
            "tags": [],
            "needs_background": "light"
          }
        }
      ]
    },
    {
      "cell_type": "code",
      "metadata": {
        "colab": {
          "base_uri": "https://localhost:8080/",
          "height": 297
        },
        "id": "CLr6-mx8M2T7",
        "outputId": "e06f5d29-7276-465a-8501-e24536e06852"
      },
      "source": [
        "# Criando gráficos de barras para variáveis categóricas\n",
        "sns.countplot(clientes['historico_credito'])"
      ],
      "execution_count": 324,
      "outputs": [
        {
          "output_type": "execute_result",
          "data": {
            "text/plain": [
              "<matplotlib.axes._subplots.AxesSubplot at 0x7f85912490d0>"
            ]
          },
          "metadata": {
            "tags": []
          },
          "execution_count": 324
        },
        {
          "output_type": "display_data",
          "data": {
            "image/png": "[encoded data removed]",
            "text/plain": [
              "<Figure size 432x288 with 1 Axes>"
            ]
          },
          "metadata": {
            "tags": [],
            "needs_background": "light"
          }
        }
      ]
    },
    {
      "cell_type": "code",
      "metadata": {
        "colab": {
          "base_uri": "https://localhost:8080/",
          "height": 299
        },
        "id": "v5Fs5c8UM2T7",
        "outputId": "cf450906-1b7d-487d-9c96-ba260ab801e8"
      },
      "source": [
        "# Criando gráficos de barras para variáveis categóricas\n",
        "sns.countplot(clientes['educacao'])"
      ],
      "execution_count": 325,
      "outputs": [
        {
          "output_type": "execute_result",
          "data": {
            "text/plain": [
              "<matplotlib.axes._subplots.AxesSubplot at 0x7f8591226ad0>"
            ]
          },
          "metadata": {
            "tags": []
          },
          "execution_count": 325
        },
        {
          "output_type": "display_data",
          "data": {
            "image/png": "[encoded data removed]",
            "text/plain": [
              "<Figure size 432x288 with 1 Axes>"
            ]
          },
          "metadata": {
            "tags": [],
            "needs_background": "light"
          }
        }
      ]
    },
    {
      "cell_type": "code",
      "metadata": {
        "colab": {
          "base_uri": "https://localhost:8080/",
          "height": 296
        },
        "id": "DfqiaG8SM2T7",
        "outputId": "c8712ac4-e7fc-4215-a405-1fb87b260fe4"
      },
      "source": [
        "# Criando gráficos de barras para variáveis categóricas\n",
        "sns.countplot(clientes['sexo'])"
      ],
      "execution_count": 326,
      "outputs": [
        {
          "output_type": "execute_result",
          "data": {
            "text/plain": [
              "<matplotlib.axes._subplots.AxesSubplot at 0x7f85911f4ad0>"
            ]
          },
          "metadata": {
            "tags": []
          },
          "execution_count": 326
        },
        {
          "output_type": "display_data",
          "data": {
            "image/png": "[encoded data removed]",
            "text/plain": [
              "<Figure size 432x288 with 1 Axes>"
            ]
          },
          "metadata": {
            "tags": [],
            "needs_background": "light"
          }
        }
      ]
    },
    {
      "cell_type": "code",
      "metadata": {
        "colab": {
          "base_uri": "https://localhost:8080/",
          "height": 296
        },
        "id": "fUEZtkDrM2T8",
        "outputId": "54382e87-4179-462c-ba40-26fbd81ee963"
      },
      "source": [
        "# Criando gráficos de barras para variáveis categóricas\n",
        "sns.countplot(clientes['imovel'])"
      ],
      "execution_count": 327,
      "outputs": [
        {
          "output_type": "execute_result",
          "data": {
            "text/plain": [
              "<matplotlib.axes._subplots.AxesSubplot at 0x7f85911589d0>"
            ]
          },
          "metadata": {
            "tags": []
          },
          "execution_count": 327
        },
        {
          "output_type": "display_data",
          "data": {
            "image/png": "[encoded data removed]",
            "text/plain": [
              "<Figure size 432x288 with 1 Axes>"
            ]
          },
          "metadata": {
            "tags": [],
            "needs_background": "light"
          }
        }
      ]
    },
    {
      "cell_type": "code",
      "metadata": {
        "colab": {
          "base_uri": "https://localhost:8080/",
          "height": 299
        },
        "id": "Qyah8rVfM2T8",
        "outputId": "9aa0694e-98db-4ead-db0d-f60eec7f4661"
      },
      "source": [
        "# Criando gráficos de barras para variáveis categóricas\n",
        "sns.countplot(clientes['educacao'])"
      ],
      "execution_count": 328,
      "outputs": [
        {
          "output_type": "execute_result",
          "data": {
            "text/plain": [
              "<matplotlib.axes._subplots.AxesSubplot at 0x7f859113c990>"
            ]
          },
          "metadata": {
            "tags": []
          },
          "execution_count": 328
        },
        {
          "output_type": "display_data",
          "data": {
            "image/png": "[encoded data removed]",
            "text/plain": [
              "<Figure size 432x288 with 1 Axes>"
            ]
          },
          "metadata": {
            "tags": [],
            "needs_background": "light"
          }
        }
      ]
    },
    {
      "cell_type": "code",
      "metadata": {
        "colab": {
          "base_uri": "https://localhost:8080/",
          "height": 296
        },
        "id": "j6PrAfXIM2T8",
        "outputId": "967f7cc2-b2f9-4368-a74e-5605b2649282"
      },
      "source": [
        "# Criando gráficos de barras para variáveis categóricas\n",
        "sns.countplot(clientes['dependentes'])"
      ],
      "execution_count": 329,
      "outputs": [
        {
          "output_type": "execute_result",
          "data": {
            "text/plain": [
              "<matplotlib.axes._subplots.AxesSubplot at 0x7f8591096c50>"
            ]
          },
          "metadata": {
            "tags": []
          },
          "execution_count": 329
        },
        {
          "output_type": "display_data",
          "data": {
            "image/png": "[encoded data removed]",
            "text/plain": [
              "<Figure size 432x288 with 1 Axes>"
            ]
          },
          "metadata": {
            "tags": [],
            "needs_background": "light"
          }
        }
      ]
    },
    {
      "cell_type": "code",
      "metadata": {
        "colab": {
          "base_uri": "https://localhost:8080/",
          "height": 297
        },
        "id": "4Z67eWVQM2T9",
        "outputId": "731db0fa-1c17-40d3-a60b-e8deebc24e2e"
      },
      "source": [
        "# Criando gráficos de barras para variáveis categóricas\n",
        "sns.countplot(clientes['estado_civil'])"
      ],
      "execution_count": 330,
      "outputs": [
        {
          "output_type": "execute_result",
          "data": {
            "text/plain": [
              "<matplotlib.axes._subplots.AxesSubplot at 0x7f8591006250>"
            ]
          },
          "metadata": {
            "tags": []
          },
          "execution_count": 330
        },
        {
          "output_type": "display_data",
          "data": {
            "image/png": "[encoded data removed]",
            "text/plain": [
              "<Figure size 432x288 with 1 Axes>"
            ]
          },
          "metadata": {
            "tags": [],
            "needs_background": "light"
          }
        }
      ]
    },
    {
      "cell_type": "code",
      "metadata": {
        "colab": {
          "base_uri": "https://localhost:8080/",
          "height": 296
        },
        "id": "c3vX-Rt4M2T9",
        "outputId": "d8efbc30-5879-4821-c995-32e03acb71dd"
      },
      "source": [
        "sns.countplot(clientes['empregado'])"
      ],
      "execution_count": 331,
      "outputs": [
        {
          "output_type": "execute_result",
          "data": {
            "text/plain": [
              "<matplotlib.axes._subplots.AxesSubplot at 0x7f85910f8c50>"
            ]
          },
          "metadata": {
            "tags": []
          },
          "execution_count": 331
        },
        {
          "output_type": "display_data",
          "data": {
            "image/png": "[encoded data removed]",
            "text/plain": [
              "<Figure size 432x288 with 1 Axes>"
            ]
          },
          "metadata": {
            "tags": [],
            "needs_background": "light"
          }
        }
      ]
    },
    {
      "cell_type": "code",
      "metadata": {
        "colab": {
          "base_uri": "https://localhost:8080/",
          "height": 296
        },
        "id": "3Az88P3GM2T9",
        "outputId": "3e4de469-2f9d-4c39-f135-dd27b28620f6"
      },
      "source": [
        "# Criando gráfico de distribuição para variáveis contínuas\n",
        "sns.histplot(clientes['renda'], bins=50, kde=True)"
      ],
      "execution_count": 332,
      "outputs": [
        {
          "output_type": "execute_result",
          "data": {
            "text/plain": [
              "<matplotlib.axes._subplots.AxesSubplot at 0x7f8590fb7890>"
            ]
          },
          "metadata": {
            "tags": []
          },
          "execution_count": 332
        },
        {
          "output_type": "display_data",
          "data": {
            "image/png": "[encoded data removed]",
            "text/plain": [
              "<Figure size 432x288 with 1 Axes>"
            ]
          },
          "metadata": {
            "tags": [],
            "needs_background": "light"
          }
        }
      ]
    },
    {
      "cell_type": "code",
      "metadata": {
        "colab": {
          "base_uri": "https://localhost:8080/",
          "height": 282
        },
        "id": "scElXpXvM2T-",
        "outputId": "f161d339-5c36-4a88-9ebd-1c0e5f8e9e92"
      },
      "source": [
        "# Distribuição dos dados BOXPLOT\n",
        "clientes.boxplot(column='emprestimo', vert=False)"
      ],
      "execution_count": 333,
      "outputs": [
        {
          "output_type": "execute_result",
          "data": {
            "text/plain": [
              "<matplotlib.axes._subplots.AxesSubplot at 0x7f8590f95f90>"
            ]
          },
          "metadata": {
            "tags": []
          },
          "execution_count": 333
        },
        {
          "output_type": "display_data",
          "data": {
            "image/png": "[encoded data removed]",
            "text/plain": [
              "<Figure size 432x288 with 1 Axes>"
            ]
          },
          "metadata": {
            "tags": [],
            "needs_background": "light"
          }
        }
      ]
    },
    {
      "cell_type": "code",
      "metadata": {
        "colab": {
          "base_uri": "https://localhost:8080/",
          "height": 296
        },
        "id": "HBsN4oZ_M2T-",
        "outputId": "b411d37c-a7db-4243-e0a6-f0237ac26109"
      },
      "source": [
        "# criando gráfico de distribuiçã para variáveis continues\n",
        "sns.histplot(clientes['emprestimo'], bins=50, kde=True)"
      ],
      "execution_count": 334,
      "outputs": [
        {
          "output_type": "execute_result",
          "data": {
            "text/plain": [
              "<matplotlib.axes._subplots.AxesSubplot at 0x7f8590e3eed0>"
            ]
          },
          "metadata": {
            "tags": []
          },
          "execution_count": 334
        },
        {
          "output_type": "display_data",
          "data": {
            "image/png": "[encoded data removed]",
            "text/plain": [
              "<Figure size 432x288 with 1 Axes>"
            ]
          },
          "metadata": {
            "tags": [],
            "needs_background": "light"
          }
        }
      ]
    },
    {
      "cell_type": "code",
      "metadata": {
        "colab": {
          "base_uri": "https://localhost:8080/",
          "height": 296
        },
        "id": "HpYHjXMVM2T_",
        "outputId": "b41c5f5a-233a-4213-f8be-4d3895ff86e2"
      },
      "source": [
        "# Correlação entre as Variáveis\n",
        "sns.scatterplot(data=clientes, x=\"emprestimo\", y=\"renda\")"
      ],
      "execution_count": 335,
      "outputs": [
        {
          "output_type": "execute_result",
          "data": {
            "text/plain": [
              "<matplotlib.axes._subplots.AxesSubplot at 0x7f8590e51310>"
            ]
          },
          "metadata": {
            "tags": []
          },
          "execution_count": 335
        },
        {
          "output_type": "display_data",
          "data": {
            "image/png": "[encoded data removed]",
            "text/plain": [
              "<Figure size 432x288 with 1 Axes>"
            ]
          },
          "metadata": {
            "tags": [],
            "needs_background": "light"
          }
        }
      ]
    },
    {
      "cell_type": "code",
      "metadata": {
        "colab": {
          "base_uri": "https://localhost:8080/",
          "height": 743
        },
        "id": "SEsYWWHYM2T_",
        "outputId": "c268c5bf-1f05-40d7-bceb-0e49b1c3163f"
      },
      "source": [
        "# Criação do Gráfico de dispersão (scatter) conhecido como pairplot\n",
        "sns.pairplot(clientes, hue='aprovacao_emprestimo')"
      ],
      "execution_count": 336,
      "outputs": [
        {
          "output_type": "execute_result",
          "data": {
            "text/plain": [
              "<seaborn.axisgrid.PairGrid at 0x7f8590d414d0>"
            ]
          },
          "metadata": {
            "tags": []
          },
          "execution_count": 336
        },
        {
          "output_type": "display_data",
          "data": {
            "image/png": "[encoded data removed]",
            "text/plain": [
              "<Figure size 844.5x720 with 20 Axes>"
            ]
          },
          "metadata": {
            "tags": [],
            "needs_background": "light"
          }
        }
      ]
    },
    {
      "cell_type": "markdown",
      "metadata": {
        "id": "8Lxa1fHKM2T_"
      },
      "source": [
        "## Pré-Processamento dos dados"
      ]
    },
    {
      "cell_type": "code",
      "metadata": {
        "id": "zfeP1_xwM2UA"
      },
      "source": [
        "#Substituindo caracteres por números\n",
        "clientes['sexo'] = clientes['sexo'].map({'Male':0, 'Female':1})\n",
        "clientes['estado_civil'] = clientes['estado_civil'].map({'No':0, 'Yes':1})\n",
        "clientes['aprovacao_emprestimo'] = clientes['aprovacao_emprestimo'].map({'N':0, 'Y':1})"
      ],
      "execution_count": 337,
      "outputs": []
    },
    {
      "cell_type": "code",
      "metadata": {
        "colab": {
          "base_uri": "https://localhost:8080/"
        },
        "id": "prGcYZpNM2UA",
        "outputId": "3c8458ad-dcfe-4705-d412-c98be8115fa1"
      },
      "source": [
        "# Eliminando valores Nulos\n",
        "clientes = clientes.dropna()\n",
        "clientes.isnull().sum()"
      ],
      "execution_count": 338,
      "outputs": [
        {
          "output_type": "execute_result",
          "data": {
            "text/plain": [
              "cod_cliente             0\n",
              "sexo                    0\n",
              "estado_civil            0\n",
              "dependentes             0\n",
              "educacao                0\n",
              "empregado               0\n",
              "renda                   0\n",
              "renda_conjuge           0\n",
              "emprestimo              0\n",
              "prestacao_mensal        0\n",
              "historico_credito       0\n",
              "imovel                  0\n",
              "aprovacao_emprestimo    0\n",
              "dtype: int64"
            ]
          },
          "metadata": {
            "tags": []
          },
          "execution_count": 338
        }
      ]
    },
    {
      "cell_type": "code",
      "metadata": {
        "colab": {
          "base_uri": "https://localhost:8080/"
        },
        "id": "oDYRn4IyM2UA",
        "outputId": "94f85525-8da0-4285-aae4-b580f290a59b"
      },
      "source": [
        "# Separando variáveis explicantivas e variáveis Target\n",
        "x = clientes[['sexo','estado_civil','renda','emprestimo','historico_credito']]\n",
        "y = clientes.aprovacao_emprestimo\n",
        "x.shape, y.shape"
      ],
      "execution_count": 339,
      "outputs": [
        {
          "output_type": "execute_result",
          "data": {
            "text/plain": [
              "((480, 5), (480,))"
            ]
          },
          "metadata": {
            "tags": []
          },
          "execution_count": 339
        }
      ]
    },
    {
      "cell_type": "code",
      "metadata": {
        "id": "YXJ7uDPuM2UB"
      },
      "source": [
        "# Importando pacotes para amostragem dos dados.\n",
        "from sklearn.model_selection import train_test_split"
      ],
      "execution_count": 340,
      "outputs": []
    },
    {
      "cell_type": "code",
      "metadata": {
        "id": "juDS5OeBM2UB"
      },
      "source": [
        "# Realizadno amostragem dos dados\n",
        "x_train, x_teste, y_train, y_teste = train_test_split(x,y, test_size = 0.2, random_state = 7)"
      ],
      "execution_count": 341,
      "outputs": []
    },
    {
      "cell_type": "markdown",
      "metadata": {
        "id": "wSqKaCZWM2UB"
      },
      "source": [
        "# Construindo a Máquina Preditiva "
      ]
    },
    {
      "cell_type": "code",
      "metadata": {
        "id": "o1X17GSMM2UB"
      },
      "source": [
        "# Importando Pacotes para construção das Máquinas Preditivas Com Marchine Learning\n",
        "# Algoritmo Ramdom Rorest\n",
        "from sklearn.ensemble import RandomForestClassifier"
      ],
      "execution_count": 342,
      "outputs": []
    },
    {
      "cell_type": "code",
      "metadata": {
        "colab": {
          "base_uri": "https://localhost:8080/"
        },
        "id": "F-H89NqCM2UC",
        "outputId": "3328c763-3b75-4951-fb9c-f34ba63af4c2"
      },
      "source": [
        "# Criando a Máquina Preditiva com o Random Forest\n",
        "maquina = RandomForestClassifier()\n",
        "maquina.fit(x_train, y_train)"
      ],
      "execution_count": 343,
      "outputs": [
        {
          "output_type": "execute_result",
          "data": {
            "text/plain": [
              "RandomForestClassifier(bootstrap=True, ccp_alpha=0.0, class_weight=None,\n",
              "                       criterion='gini', max_depth=None, max_features='auto',\n",
              "                       max_leaf_nodes=None, max_samples=None,\n",
              "                       min_impurity_decrease=0.0, min_impurity_split=None,\n",
              "                       min_samples_leaf=1, min_samples_split=2,\n",
              "                       min_weight_fraction_leaf=0.0, n_estimators=100,\n",
              "                       n_jobs=None, oob_score=False, random_state=None,\n",
              "                       verbose=0, warm_start=False)"
            ]
          },
          "metadata": {
            "tags": []
          },
          "execution_count": 343
        }
      ]
    },
    {
      "cell_type": "code",
      "metadata": {
        "id": "epZsM_aMM2UC"
      },
      "source": [
        "# Avaliando a máquina preditiva"
      ],
      "execution_count": 344,
      "outputs": []
    },
    {
      "cell_type": "code",
      "metadata": {
        "id": "UeyAiRuKM2UC"
      },
      "source": [
        "# Importando a Métrica de Avaliação\n",
        "\n",
        "from sklearn.metrics import accuracy_score"
      ],
      "execution_count": 345,
      "outputs": []
    },
    {
      "cell_type": "code",
      "metadata": {
        "colab": {
          "base_uri": "https://localhost:8080/"
        },
        "id": "TBXM3zoIM2UC",
        "outputId": "daaa4346-6f21-4d80-a64e-f6e9f2606c17"
      },
      "source": [
        "# Avaliando a Acurácia da máquina preditiva com os dados de treino\n",
        "pred_maquina = maquina.predict(x_train)\n",
        "accuracy_score(y_train,pred_maquina)"
      ],
      "execution_count": 346,
      "outputs": [
        {
          "output_type": "execute_result",
          "data": {
            "text/plain": [
              "1.0"
            ]
          },
          "metadata": {
            "tags": []
          },
          "execution_count": 346
        }
      ]
    },
    {
      "cell_type": "code",
      "metadata": {
        "colab": {
          "base_uri": "https://localhost:8080/"
        },
        "id": "s1phCNCZM2UD",
        "outputId": "6c6b5cf2-3304-4919-8a35-30f550ad46aa"
      },
      "source": [
        "# Avaliando a acurácia da máquina preditiva com os dados de teste\n",
        "pred_maquina = maquina.predict(x_teste)\n",
        "accuracy_score(y_teste,pred_maquina)"
      ],
      "execution_count": 347,
      "outputs": [
        {
          "output_type": "execute_result",
          "data": {
            "text/plain": [
              "0.7395833333333334"
            ]
          },
          "metadata": {
            "tags": []
          },
          "execution_count": 347
        }
      ]
    },
    {
      "cell_type": "markdown",
      "metadata": {
        "id": "fswU4h7wM2UD"
      },
      "source": [
        "### 2ª Versão da máquina preditiva"
      ]
    },
    {
      "cell_type": "markdown",
      "metadata": {
        "id": "C2NvD73PM2UD"
      },
      "source": [
        "#### Calibrando os Hiperparâmetros do algoritmo"
      ]
    },
    {
      "cell_type": "code",
      "metadata": {
        "id": "9WEP5WqOM2UE"
      },
      "source": [
        "# Vamos utilizar um hiperparâmetr do algoritmo Random Forest de nome \"max_depth\",\n",
        "# Cujo objetivo é exatamente combater problemas de \"Overfiting\""
      ],
      "execution_count": 348,
      "outputs": []
    },
    {
      "cell_type": "code",
      "metadata": {
        "id": "4TFSBQIPM2UE"
      },
      "source": [
        "# Usando o Hiperparâmetro \"max_depth\" para diminuir o \"Overfiting\" que houve na máquina criada acima"
      ],
      "execution_count": 349,
      "outputs": []
    },
    {
      "cell_type": "code",
      "metadata": {
        "colab": {
          "base_uri": "https://localhost:8080/"
        },
        "id": "hKcXB0V9M2UE",
        "outputId": "02902233-9847-44e3-e4f9-8eb3dded0dbb"
      },
      "source": [
        "# Criando a máquina preditiva com Random Forest\n",
        "maquina = RandomForestClassifier(max_depth=4, random_state = 7)\n",
        "maquina.fit(x_train, y_train)"
      ],
      "execution_count": 350,
      "outputs": [
        {
          "output_type": "execute_result",
          "data": {
            "text/plain": [
              "RandomForestClassifier(bootstrap=True, ccp_alpha=0.0, class_weight=None,\n",
              "                       criterion='gini', max_depth=4, max_features='auto',\n",
              "                       max_leaf_nodes=None, max_samples=None,\n",
              "                       min_impurity_decrease=0.0, min_impurity_split=None,\n",
              "                       min_samples_leaf=1, min_samples_split=2,\n",
              "                       min_weight_fraction_leaf=0.0, n_estimators=100,\n",
              "                       n_jobs=None, oob_score=False, random_state=7, verbose=0,\n",
              "                       warm_start=False)"
            ]
          },
          "metadata": {
            "tags": []
          },
          "execution_count": 350
        }
      ]
    },
    {
      "cell_type": "code",
      "metadata": {
        "colab": {
          "base_uri": "https://localhost:8080/"
        },
        "id": "WsxqoRa_M2UE",
        "outputId": "3285a6f1-9e51-4bd5-bb6a-80742f950b00"
      },
      "source": [
        "# Avaliando a acurácia da máquina com os dados de treino\n",
        "pred_maquina_treino = maquina.predict(x_train)\n",
        "accuracy_score(y_train,pred_maquina_treino)"
      ],
      "execution_count": 351,
      "outputs": [
        {
          "output_type": "execute_result",
          "data": {
            "text/plain": [
              "0.8229166666666666"
            ]
          },
          "metadata": {
            "tags": []
          },
          "execution_count": 351
        }
      ]
    },
    {
      "cell_type": "code",
      "metadata": {
        "colab": {
          "base_uri": "https://localhost:8080/"
        },
        "id": "F79aCM7fM2UF",
        "outputId": "424cfc3b-3b9b-4d08-b6db-7890544c3e4d"
      },
      "source": [
        "# Avaliando a Acurácia da máquina preditiva com os dados de teste\n",
        "pred_maquina_teste = maquina.predict(x_teste)\n",
        "accuracy_score(y_teste,pred_maquina_teste)"
      ],
      "execution_count": 352,
      "outputs": [
        {
          "output_type": "execute_result",
          "data": {
            "text/plain": [
              "0.78125"
            ]
          },
          "metadata": {
            "tags": []
          },
          "execution_count": 352
        }
      ]
    },
    {
      "cell_type": "markdown",
      "metadata": {
        "id": "V6sr72NZM2UF"
      },
      "source": [
        "### Verificando as variáveis mais importantes"
      ]
    },
    {
      "cell_type": "code",
      "metadata": {
        "colab": {
          "base_uri": "https://localhost:8080/"
        },
        "id": "OuO_dKNDM2UF",
        "outputId": "aa90da2a-0527-4ec6-c797-6b30f00dcd44"
      },
      "source": [
        "# Importancia das variáveis\n",
        "maquina.feature_importances_"
      ],
      "execution_count": 353,
      "outputs": [
        {
          "output_type": "execute_result",
          "data": {
            "text/plain": [
              "array([0.0226187 , 0.03447823, 0.17332143, 0.17593175, 0.59364989])"
            ]
          },
          "metadata": {
            "tags": []
          },
          "execution_count": 353
        }
      ]
    },
    {
      "cell_type": "code",
      "metadata": {
        "colab": {
          "base_uri": "https://localhost:8080/",
          "height": 0
        },
        "id": "JTGvmTGVM2UG",
        "outputId": "9773524a-5052-4720-90e5-5b4577b81ffb"
      },
      "source": [
        "# Importancia das variáveis com gráficos\n",
        "print(maquina.feature_importances_)\n",
        "\n",
        "# Plotando o gráfico\n",
        "from matplotlib import pyplot\n",
        "pyplot.bar(range(len(maquina.feature_importances_)), maquina.feature_importances_)\n",
        "pyplot.show()\n",
        "print('- sexo -', ' - estado_civil - ', ' - renda - ', ' - emprestimo - ', ' - historico_credito - ')"
      ],
      "execution_count": 354,
      "outputs": [
        {
          "output_type": "stream",
          "text": [
            "[0.0226187  0.03447823 0.17332143 0.17593175 0.59364989]\n"
          ],
          "name": "stdout"
        },
        {
          "output_type": "display_data",
          "data": {
            "image/png": "[encoded data removed]",
            "text/plain": [
              "<Figure size 432x288 with 1 Axes>"
            ]
          },
          "metadata": {
            "tags": [],
            "needs_background": "light"
          }
        },
        {
          "output_type": "stream",
          "text": [
            "- sexo -  - estado_civil -   - renda -   - emprestimo -   - historico_credito - \n"
          ],
          "name": "stdout"
        }
      ]
    },
    {
      "cell_type": "markdown",
      "metadata": {
        "id": "0tnBs-36M2UG"
      },
      "source": [
        "# Podemos salvar nossa máquina preditiva para criarmos o sistema na WEB"
      ]
    },
    {
      "cell_type": "code",
      "metadata": {
        "id": "ZNcplaioM2UG"
      },
      "source": [
        "# Comando de Salvamento da máquina preditiva\n",
        "import pickle\n",
        "pickle_out = open(\"maquina_preditiva.pkl\", mode = \"wb\")\n",
        "pickle.dump(maquina, pickle_out)\n",
        "pickle_out.close()"
      ],
      "execution_count": 355,
      "outputs": []
    },
    {
      "cell_type": "code",
      "metadata": {
        "id": "uegtQ-j2M2UG"
      },
      "source": [
        "#instalação do Pacote para Conexão do nosso Sistema na WEB \n",
        "!pip install -q pyngrok"
      ],
      "execution_count": 356,
      "outputs": []
    },
    {
      "cell_type": "code",
      "metadata": {
        "colab": {
          "base_uri": "https://localhost:8080/"
        },
        "id": "rUPhfK8eM2UH",
        "outputId": "ffc01706-1877-4bab-bed3-96ac7206a67d"
      },
      "source": [
        "#instalação dos Pacotes para Implementação do nosso Sistema na WEB\n",
        "!pip install streamlit\n",
        "!pip install -q streamlit\n",
        "!pip install -q streamlit_ace"
      ],
      "execution_count": 357,
      "outputs": [
        {
          "output_type": "stream",
          "text": [
            "Requirement already satisfied: streamlit in /usr/local/lib/python3.7/dist-packages (0.79.0)\n",
            "Requirement already satisfied: pillow>=6.2.0 in /usr/local/lib/python3.7/dist-packages (from streamlit) (7.0.0)\n",
            "Requirement already satisfied: packaging in /usr/local/lib/python3.7/dist-packages (from streamlit) (20.9)\n",
            "Requirement already satisfied: pandas>=0.21.0 in /usr/local/lib/python3.7/dist-packages (from streamlit) (1.1.5)\n",
            "Requirement already satisfied: pyarrow; python_version < \"3.9\" in /usr/local/lib/python3.7/dist-packages (from streamlit) (3.0.0)\n",
            "Requirement already satisfied: tzlocal in /usr/local/lib/python3.7/dist-packages (from streamlit) (1.5.1)\n",
            "Requirement already satisfied: click>=7.0 in /usr/local/lib/python3.7/dist-packages (from streamlit) (7.1.2)\n",
            "Requirement already satisfied: base58 in /usr/local/lib/python3.7/dist-packages (from streamlit) (2.1.0)\n",
            "Requirement already satisfied: protobuf!=3.11,>=3.6.0 in /usr/local/lib/python3.7/dist-packages (from streamlit) (3.12.4)\n",
            "Requirement already satisfied: tornado>=5.0 in /usr/local/lib/python3.7/dist-packages (from streamlit) (5.1.1)\n",
            "Requirement already satisfied: pydeck>=0.1.dev5 in /usr/local/lib/python3.7/dist-packages (from streamlit) (0.6.1)\n",
            "Requirement already satisfied: validators in /usr/local/lib/python3.7/dist-packages (from streamlit) (0.18.2)\n",
            "Requirement already satisfied: blinker in /usr/local/lib/python3.7/dist-packages (from streamlit) (1.4)\n",
            "Requirement already satisfied: requests in /usr/local/lib/python3.7/dist-packages (from streamlit) (2.23.0)\n",
            "Requirement already satisfied: toml in /usr/local/lib/python3.7/dist-packages (from streamlit) (0.10.2)\n",
            "Requirement already satisfied: cachetools>=4.0 in /usr/local/lib/python3.7/dist-packages (from streamlit) (4.2.1)\n",
            "Requirement already satisfied: numpy in /usr/local/lib/python3.7/dist-packages (from streamlit) (1.19.5)\n",
            "Requirement already satisfied: astor in /usr/local/lib/python3.7/dist-packages (from streamlit) (0.8.1)\n",
            "Requirement already satisfied: altair>=3.2.0 in /usr/local/lib/python3.7/dist-packages (from streamlit) (4.1.0)\n",
            "Requirement already satisfied: watchdog; platform_system != \"Darwin\" in /usr/local/lib/python3.7/dist-packages (from streamlit) (2.0.2)\n",
            "Requirement already satisfied: python-dateutil in /usr/local/lib/python3.7/dist-packages (from streamlit) (2.8.1)\n",
            "Requirement already satisfied: gitpython in /usr/local/lib/python3.7/dist-packages (from streamlit) (3.1.14)\n",
            "Requirement already satisfied: pyparsing>=2.0.2 in /usr/local/lib/python3.7/dist-packages (from packaging->streamlit) (2.4.7)\n",
            "Requirement already satisfied: pytz>=2017.2 in /usr/local/lib/python3.7/dist-packages (from pandas>=0.21.0->streamlit) (2018.9)\n",
            "Requirement already satisfied: setuptools in /usr/local/lib/python3.7/dist-packages (from protobuf!=3.11,>=3.6.0->streamlit) (54.1.2)\n",
            "Requirement already satisfied: six>=1.9 in /usr/local/lib/python3.7/dist-packages (from protobuf!=3.11,>=3.6.0->streamlit) (1.15.0)\n",
            "Requirement already satisfied: jinja2>=2.10.1 in /usr/local/lib/python3.7/dist-packages (from pydeck>=0.1.dev5->streamlit) (2.11.3)\n",
            "Requirement already satisfied: traitlets>=4.3.2 in /usr/local/lib/python3.7/dist-packages (from pydeck>=0.1.dev5->streamlit) (5.0.5)\n",
            "Requirement already satisfied: ipywidgets>=7.0.0 in /usr/local/lib/python3.7/dist-packages (from pydeck>=0.1.dev5->streamlit) (7.6.3)\n",
            "Requirement already satisfied: ipykernel>=5.1.2; python_version >= \"3.4\" in /usr/local/lib/python3.7/dist-packages (from pydeck>=0.1.dev5->streamlit) (5.5.0)\n",
            "Requirement already satisfied: decorator>=3.4.0 in /usr/local/lib/python3.7/dist-packages (from validators->streamlit) (4.4.2)\n",
            "Requirement already satisfied: urllib3!=1.25.0,!=1.25.1,<1.26,>=1.21.1 in /usr/local/lib/python3.7/dist-packages (from requests->streamlit) (1.24.3)\n",
            "Requirement already satisfied: certifi>=2017.4.17 in /usr/local/lib/python3.7/dist-packages (from requests->streamlit) (2020.12.5)\n",
            "Requirement already satisfied: idna<3,>=2.5 in /usr/local/lib/python3.7/dist-packages (from requests->streamlit) (2.10)\n",
            "Requirement already satisfied: chardet<4,>=3.0.2 in /usr/local/lib/python3.7/dist-packages (from requests->streamlit) (3.0.4)\n",
            "Requirement already satisfied: toolz in /usr/local/lib/python3.7/dist-packages (from altair>=3.2.0->streamlit) (0.11.1)\n",
            "Requirement already satisfied: jsonschema in /usr/local/lib/python3.7/dist-packages (from altair>=3.2.0->streamlit) (2.6.0)\n",
            "Requirement already satisfied: entrypoints in /usr/local/lib/python3.7/dist-packages (from altair>=3.2.0->streamlit) (0.3)\n",
            "Requirement already satisfied: gitdb<5,>=4.0.1 in /usr/local/lib/python3.7/dist-packages (from gitpython->streamlit) (4.0.7)\n",
            "Requirement already satisfied: MarkupSafe>=0.23 in /usr/local/lib/python3.7/dist-packages (from jinja2>=2.10.1->pydeck>=0.1.dev5->streamlit) (1.1.1)\n",
            "Requirement already satisfied: ipython-genutils in /usr/local/lib/python3.7/dist-packages (from traitlets>=4.3.2->pydeck>=0.1.dev5->streamlit) (0.2.0)\n",
            "Requirement already satisfied: widgetsnbextension~=3.5.0 in /usr/local/lib/python3.7/dist-packages (from ipywidgets>=7.0.0->pydeck>=0.1.dev5->streamlit) (3.5.1)\n",
            "Requirement already satisfied: nbformat>=4.2.0 in /usr/local/lib/python3.7/dist-packages (from ipywidgets>=7.0.0->pydeck>=0.1.dev5->streamlit) (5.1.2)\n",
            "Requirement already satisfied: jupyterlab-widgets>=1.0.0; python_version >= \"3.6\" in /usr/local/lib/python3.7/dist-packages (from ipywidgets>=7.0.0->pydeck>=0.1.dev5->streamlit) (1.0.0)\n",
            "Requirement already satisfied: ipython>=4.0.0; python_version >= \"3.3\" in /usr/local/lib/python3.7/dist-packages (from ipywidgets>=7.0.0->pydeck>=0.1.dev5->streamlit) (5.5.0)\n",
            "Requirement already satisfied: jupyter-client in /usr/local/lib/python3.7/dist-packages (from ipykernel>=5.1.2; python_version >= \"3.4\"->pydeck>=0.1.dev5->streamlit) (5.3.5)\n",
            "Requirement already satisfied: smmap<5,>=3.0.1 in /usr/local/lib/python3.7/dist-packages (from gitdb<5,>=4.0.1->gitpython->streamlit) (4.0.0)\n",
            "Requirement already satisfied: notebook>=4.4.1 in /usr/local/lib/python3.7/dist-packages (from widgetsnbextension~=3.5.0->ipywidgets>=7.0.0->pydeck>=0.1.dev5->streamlit) (5.3.1)\n",
            "Requirement already satisfied: jupyter-core in /usr/local/lib/python3.7/dist-packages (from nbformat>=4.2.0->ipywidgets>=7.0.0->pydeck>=0.1.dev5->streamlit) (4.7.1)\n",
            "Requirement already satisfied: pickleshare in /usr/local/lib/python3.7/dist-packages (from ipython>=4.0.0; python_version >= \"3.3\"->ipywidgets>=7.0.0->pydeck>=0.1.dev5->streamlit) (0.7.5)\n",
            "Requirement already satisfied: pexpect; sys_platform != \"win32\" in /usr/local/lib/python3.7/dist-packages (from ipython>=4.0.0; python_version >= \"3.3\"->ipywidgets>=7.0.0->pydeck>=0.1.dev5->streamlit) (4.8.0)\n",
            "Requirement already satisfied: prompt-toolkit<2.0.0,>=1.0.4 in /usr/local/lib/python3.7/dist-packages (from ipython>=4.0.0; python_version >= \"3.3\"->ipywidgets>=7.0.0->pydeck>=0.1.dev5->streamlit) (1.0.18)\n",
            "Requirement already satisfied: pygments in /usr/local/lib/python3.7/dist-packages (from ipython>=4.0.0; python_version >= \"3.3\"->ipywidgets>=7.0.0->pydeck>=0.1.dev5->streamlit) (2.6.1)\n",
            "Requirement already satisfied: simplegeneric>0.8 in /usr/local/lib/python3.7/dist-packages (from ipython>=4.0.0; python_version >= \"3.3\"->ipywidgets>=7.0.0->pydeck>=0.1.dev5->streamlit) (0.8.1)\n",
            "Requirement already satisfied: pyzmq>=13 in /usr/local/lib/python3.7/dist-packages (from jupyter-client->ipykernel>=5.1.2; python_version >= \"3.4\"->pydeck>=0.1.dev5->streamlit) (22.0.3)\n",
            "Requirement already satisfied: terminado>=0.8.1 in /usr/local/lib/python3.7/dist-packages (from notebook>=4.4.1->widgetsnbextension~=3.5.0->ipywidgets>=7.0.0->pydeck>=0.1.dev5->streamlit) (0.9.2)\n",
            "Requirement already satisfied: nbconvert in /usr/local/lib/python3.7/dist-packages (from notebook>=4.4.1->widgetsnbextension~=3.5.0->ipywidgets>=7.0.0->pydeck>=0.1.dev5->streamlit) (5.6.1)\n",
            "Requirement already satisfied: Send2Trash in /usr/local/lib/python3.7/dist-packages (from notebook>=4.4.1->widgetsnbextension~=3.5.0->ipywidgets>=7.0.0->pydeck>=0.1.dev5->streamlit) (1.5.0)\n",
            "Requirement already satisfied: ptyprocess>=0.5 in /usr/local/lib/python3.7/dist-packages (from pexpect; sys_platform != \"win32\"->ipython>=4.0.0; python_version >= \"3.3\"->ipywidgets>=7.0.0->pydeck>=0.1.dev5->streamlit) (0.7.0)\n",
            "Requirement already satisfied: wcwidth in /usr/local/lib/python3.7/dist-packages (from prompt-toolkit<2.0.0,>=1.0.4->ipython>=4.0.0; python_version >= \"3.3\"->ipywidgets>=7.0.0->pydeck>=0.1.dev5->streamlit) (0.2.5)\n",
            "Requirement already satisfied: pandocfilters>=1.4.1 in /usr/local/lib/python3.7/dist-packages (from nbconvert->notebook>=4.4.1->widgetsnbextension~=3.5.0->ipywidgets>=7.0.0->pydeck>=0.1.dev5->streamlit) (1.4.3)\n",
            "Requirement already satisfied: mistune<2,>=0.8.1 in /usr/local/lib/python3.7/dist-packages (from nbconvert->notebook>=4.4.1->widgetsnbextension~=3.5.0->ipywidgets>=7.0.0->pydeck>=0.1.dev5->streamlit) (0.8.4)\n",
            "Requirement already satisfied: bleach in /usr/local/lib/python3.7/dist-packages (from nbconvert->notebook>=4.4.1->widgetsnbextension~=3.5.0->ipywidgets>=7.0.0->pydeck>=0.1.dev5->streamlit) (3.3.0)\n",
            "Requirement already satisfied: defusedxml in /usr/local/lib/python3.7/dist-packages (from nbconvert->notebook>=4.4.1->widgetsnbextension~=3.5.0->ipywidgets>=7.0.0->pydeck>=0.1.dev5->streamlit) (0.7.1)\n",
            "Requirement already satisfied: testpath in /usr/local/lib/python3.7/dist-packages (from nbconvert->notebook>=4.4.1->widgetsnbextension~=3.5.0->ipywidgets>=7.0.0->pydeck>=0.1.dev5->streamlit) (0.4.4)\n",
            "Requirement already satisfied: webencodings in /usr/local/lib/python3.7/dist-packages (from bleach->nbconvert->notebook>=4.4.1->widgetsnbextension~=3.5.0->ipywidgets>=7.0.0->pydeck>=0.1.dev5->streamlit) (0.5.1)\n"
          ],
          "name": "stdout"
        }
      ]
    },
    {
      "cell_type": "markdown",
      "metadata": {
        "id": "6-sz9bI8M2UH"
      },
      "source": [
        "# Criando o sistema"
      ]
    },
    {
      "cell_type": "code",
      "metadata": {
        "colab": {
          "base_uri": "https://localhost:8080/"
        },
        "id": "m_7PO0-dM2UJ",
        "outputId": "00b38501-ad15-4bf6-c066-30d5c3e0f8c8"
      },
      "source": [
        "%%writefile app.py\n",
        "\n",
        "#Importando Pacotes \n",
        "import pickle\n",
        "import streamlit as st\n",
        " \n",
        "# Carregando a Máquina Preditiva\n",
        "pickle_in = open('maquina_preditiva.pkl', 'rb') \n",
        "maquina_preditiva = pickle.load(pickle_in)\n",
        "\n",
        "#Manter a sessão em cache \n",
        "@st.cache()\n",
        "  \n",
        "# Criando a função que irá fazer a predição usando os dados impostados pelo usuário do Sistema \n",
        "def prediction(sexo, estado_civil, renda, emprestimo, historico_credito):   \n",
        " \n",
        "    # Pre-processando a entrada do Usuário    \n",
        "    if sexo == \"Masculino\":\n",
        "        sexo = 0\n",
        "    else:\n",
        "        sexo = 1\n",
        " \n",
        "    if estado_civil == \"Solteiro(a)\":\n",
        "        estado_civil = 0\n",
        "    else:\n",
        "        estado_civil = 1\n",
        " \n",
        "    if historico_credito == \"Débitos Pendentes\":\n",
        "        historico_credito = 0\n",
        "    else:\n",
        "        historico_credito = 1  \n",
        " \n",
        "    emprestimo = emprestimo / 1000\n",
        " \n",
        "    # Fazendo Predições\n",
        "    prediction = maquina_preditiva.predict( \n",
        "        [[sexo, estado_civil, renda, emprestimo, historico_credito]])\n",
        "     \n",
        "    if prediction == 0:\n",
        "        pred = 'Rejeitado'\n",
        "    else:\n",
        "        pred = 'Aprovado'\n",
        "    return pred\n",
        "      \n",
        "  \n",
        "# Essa função é para criação da webpage  \n",
        "def main():  \n",
        "\n",
        "    # Elementos da webpage\n",
        "    # Nesse Ponto vc deve Personalizar o Sistema com sua Marca\n",
        "    html_temp = \"\"\" \n",
        "    <div style =\"background-color:blue;padding:13px\"> \n",
        "    <h1 style =\"color:white;text-align:center;\">SAE</h1> \n",
        "    <h2 style =\"color:white;text-align:center;\">Sistema de Aprovação de Empréstimos - by Gil Rocha</h2> \n",
        "    </div> \n",
        "    \"\"\"\n",
        "      \n",
        "    # Função do stramlit que faz o display da webpage\n",
        "    st.markdown(html_temp, unsafe_allow_html = True) \n",
        "      \n",
        "    # As linhas abaixo criam as caixas na qual o usuário vai entrar com dados da pessoa que quer o empréstimo para fazer a Predição\n",
        "    sexo = st.selectbox('Sexo',(\"Masculino\",\"Feminino\"))\n",
        "    estado_civil = st.selectbox('Estado Civil',(\"Solteiro(a)\",\"Casado(a)\")) \n",
        "    renda = st.number_input(\"Renda Mensal\") \n",
        "    emprestimo = st.number_input(\"Valor Total do Empréstimo\")\n",
        "    historico_credito = st.selectbox('Histórico de Créditos',(\"Sem Débitos\",\"Débitos Pendentes\"))\n",
        "    result =\"\"\n",
        "      \n",
        "    #Quando o Usuário clicar no botão \"Verificar\" a Máquina Preditiva faz seu trabalho\n",
        "    if st.button(\"Verificar\"): \n",
        "        result = prediction(sexo, estado_civil, renda, emprestimo, historico_credito) \n",
        "        st.success('O empréstimo foi {}'.format(result))\n",
        "        print(emprestimo)\n",
        "     \n",
        "if __name__=='__main__': \n",
        "    main()\n",
        "\n"
      ],
      "execution_count": 364,
      "outputs": [
        {
          "output_type": "stream",
          "text": [
            "Overwriting app.py\n"
          ],
          "name": "stdout"
        }
      ]
    },
    {
      "cell_type": "code",
      "metadata": {
        "id": "UVlYhYvuZqaf"
      },
      "source": [
        "#Executa o sistema\n",
        "!streamlit run app.py &>/dev/null&"
      ],
      "execution_count": 359,
      "outputs": []
    },
    {
      "cell_type": "code",
      "metadata": {
        "id": "V4OhMaJgZ1Ha"
      },
      "source": [
        "from pyngrok import ngrok"
      ],
      "execution_count": 360,
      "outputs": []
    },
    {
      "cell_type": "code",
      "metadata": {
        "id": "mcqAnWOzZ18_"
      },
      "source": [
        "public_url = ngrok.connect('8501')"
      ],
      "execution_count": 361,
      "outputs": []
    },
    {
      "cell_type": "code",
      "metadata": {
        "colab": {
          "base_uri": "https://localhost:8080/"
        },
        "id": "B0UyG_FlZ3ss",
        "outputId": "a4589fa3-7f1f-4992-890e-dcaf773d57aa"
      },
      "source": [
        "#URL do sistema\n",
        "public_url"
      ],
      "execution_count": 362,
      "outputs": [
        {
          "output_type": "execute_result",
          "data": {
            "text/plain": [
              "<NgrokTunnel: \"http://d4e1ec608a17.ngrok.io\" -> \"http://localhost:8501\">"
            ]
          },
          "metadata": {
            "tags": []
          },
          "execution_count": 362
        }
      ]
    },
    {
      "cell_type": "code",
      "metadata": {
        "id": "Xoees_kUZ7mO"
      },
      "source": [
        ""
      ],
      "execution_count": 362,
      "outputs": []
    }
  ]
}